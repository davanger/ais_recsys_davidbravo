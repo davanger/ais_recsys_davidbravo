{
 "cells": [
  {
   "cell_type": "markdown",
   "source": [
    "# RecSys - AIS-F20: Model benchmarking\n",
    "\n",
    "## Instructions\n",
    "\n",
    "For this assignment, you need to benchmark the following models using RMSE, MAE and fit-time / prediction-time:\n",
    "\n",
    "* User-based CF with cosine similarity.\n",
    "* User-based CF with pearson correlation similarity.\n",
    "* Item-based CF with cosine similarity.\n",
    "* Item-based CF with pearson correlation similarity.\n",
    "* SVD\n",
    "* NMF\n",
    "\n",
    "**Note** :\n",
    "* You should visualize your benchmarking results with a bar chart and to interepret them\n",
    "* You shouldn't implement the models from scratch, you need to use their surprise implementation.\n",
    "\n",
    "**Notebook** :\n",
    "\n",
    "Your notebook should be leasable, well organized and commented. It should contain 3 separate parts :\n",
    "* Data loading\n",
    "* Utils\n",
    "* Model benchmarking\n",
    "\n",
    "**Submission** :\n",
    "\n",
    "You need to push your code in a github repository and to send the link in the assignment tab."
   ],
   "metadata": {}
  },
  {
   "cell_type": "markdown",
   "source": [
    "## Data loading"
   ],
   "metadata": {}
  },
  {
   "cell_type": "code",
   "execution_count": 86,
   "source": [
    "import pandas as pd\n",
    "import pandas as pd\n",
    "import numpy as np\n",
    "import seaborn as sns\n",
    "import matplotlib.pyplot as plt\n",
    "from surprise import SVD\n",
    "from surprise import NMF\n",
    "from surprise import Dataset\n",
    "from surprise.model_selection import cross_validate\n",
    "from surprise import Reader\n",
    "from surprise import KNNBasic\n",
    "from surprise.model_selection import GridSearchCV"
   ],
   "outputs": [],
   "metadata": {}
  },
  {
   "cell_type": "code",
   "execution_count": 87,
   "source": [
    "clean_df = pd.read_csv(\"./movies_db/cleaned_movie_ratings.csv\")\n",
    "clean_df.head()"
   ],
   "outputs": [
    {
     "output_type": "execute_result",
     "data": {
      "text/plain": [
       "   Unnamed: 0  userId  movieId  rating   timestamp  \\\n",
       "0           0       1       31     2.5  1260759144   \n",
       "1           1       1     1029     3.0  1260759179   \n",
       "2           2       1     1061     3.0  1260759182   \n",
       "3           3       1     1129     2.0  1260759185   \n",
       "4           4       1     1172     4.0  1260759205   \n",
       "\n",
       "                                            title  \\\n",
       "0                          Dangerous Minds (1995)   \n",
       "1                                    Dumbo (1941)   \n",
       "2                                 Sleepers (1996)   \n",
       "3                     Escape from New York (1981)   \n",
       "4  Cinema Paradiso (Nuovo cinema Paradiso) (1989)   \n",
       "\n",
       "                             genres  Drama  Animation  Children  ...  Horror  \\\n",
       "0                             Drama   True      False     False  ...   False   \n",
       "1  Animation|Children|Drama|Musical   True       True      True  ...   False   \n",
       "2                          Thriller  False      False     False  ...   False   \n",
       "3  Action|Adventure|Sci-Fi|Thriller  False      False     False  ...   False   \n",
       "4                             Drama   True      False     False  ...   False   \n",
       "\n",
       "   Romance  Comedy  Crime  Western  Mystery   IMAX  Documentary  Film-Noir  \\\n",
       "0    False   False  False    False    False  False        False      False   \n",
       "1    False   False  False    False    False  False        False      False   \n",
       "2    False   False  False    False    False  False        False      False   \n",
       "3    False   False  False    False    False  False        False      False   \n",
       "4    False   False  False    False    False  False        False      False   \n",
       "\n",
       "   (no genres listed)  \n",
       "0               False  \n",
       "1               False  \n",
       "2               False  \n",
       "3               False  \n",
       "4               False  \n",
       "\n",
       "[5 rows x 27 columns]"
      ],
      "text/html": [
       "<div>\n",
       "<style scoped>\n",
       "    .dataframe tbody tr th:only-of-type {\n",
       "        vertical-align: middle;\n",
       "    }\n",
       "\n",
       "    .dataframe tbody tr th {\n",
       "        vertical-align: top;\n",
       "    }\n",
       "\n",
       "    .dataframe thead th {\n",
       "        text-align: right;\n",
       "    }\n",
       "</style>\n",
       "<table border=\"1\" class=\"dataframe\">\n",
       "  <thead>\n",
       "    <tr style=\"text-align: right;\">\n",
       "      <th></th>\n",
       "      <th>Unnamed: 0</th>\n",
       "      <th>userId</th>\n",
       "      <th>movieId</th>\n",
       "      <th>rating</th>\n",
       "      <th>timestamp</th>\n",
       "      <th>title</th>\n",
       "      <th>genres</th>\n",
       "      <th>Drama</th>\n",
       "      <th>Animation</th>\n",
       "      <th>Children</th>\n",
       "      <th>...</th>\n",
       "      <th>Horror</th>\n",
       "      <th>Romance</th>\n",
       "      <th>Comedy</th>\n",
       "      <th>Crime</th>\n",
       "      <th>Western</th>\n",
       "      <th>Mystery</th>\n",
       "      <th>IMAX</th>\n",
       "      <th>Documentary</th>\n",
       "      <th>Film-Noir</th>\n",
       "      <th>(no genres listed)</th>\n",
       "    </tr>\n",
       "  </thead>\n",
       "  <tbody>\n",
       "    <tr>\n",
       "      <th>0</th>\n",
       "      <td>0</td>\n",
       "      <td>1</td>\n",
       "      <td>31</td>\n",
       "      <td>2.5</td>\n",
       "      <td>1260759144</td>\n",
       "      <td>Dangerous Minds (1995)</td>\n",
       "      <td>Drama</td>\n",
       "      <td>True</td>\n",
       "      <td>False</td>\n",
       "      <td>False</td>\n",
       "      <td>...</td>\n",
       "      <td>False</td>\n",
       "      <td>False</td>\n",
       "      <td>False</td>\n",
       "      <td>False</td>\n",
       "      <td>False</td>\n",
       "      <td>False</td>\n",
       "      <td>False</td>\n",
       "      <td>False</td>\n",
       "      <td>False</td>\n",
       "      <td>False</td>\n",
       "    </tr>\n",
       "    <tr>\n",
       "      <th>1</th>\n",
       "      <td>1</td>\n",
       "      <td>1</td>\n",
       "      <td>1029</td>\n",
       "      <td>3.0</td>\n",
       "      <td>1260759179</td>\n",
       "      <td>Dumbo (1941)</td>\n",
       "      <td>Animation|Children|Drama|Musical</td>\n",
       "      <td>True</td>\n",
       "      <td>True</td>\n",
       "      <td>True</td>\n",
       "      <td>...</td>\n",
       "      <td>False</td>\n",
       "      <td>False</td>\n",
       "      <td>False</td>\n",
       "      <td>False</td>\n",
       "      <td>False</td>\n",
       "      <td>False</td>\n",
       "      <td>False</td>\n",
       "      <td>False</td>\n",
       "      <td>False</td>\n",
       "      <td>False</td>\n",
       "    </tr>\n",
       "    <tr>\n",
       "      <th>2</th>\n",
       "      <td>2</td>\n",
       "      <td>1</td>\n",
       "      <td>1061</td>\n",
       "      <td>3.0</td>\n",
       "      <td>1260759182</td>\n",
       "      <td>Sleepers (1996)</td>\n",
       "      <td>Thriller</td>\n",
       "      <td>False</td>\n",
       "      <td>False</td>\n",
       "      <td>False</td>\n",
       "      <td>...</td>\n",
       "      <td>False</td>\n",
       "      <td>False</td>\n",
       "      <td>False</td>\n",
       "      <td>False</td>\n",
       "      <td>False</td>\n",
       "      <td>False</td>\n",
       "      <td>False</td>\n",
       "      <td>False</td>\n",
       "      <td>False</td>\n",
       "      <td>False</td>\n",
       "    </tr>\n",
       "    <tr>\n",
       "      <th>3</th>\n",
       "      <td>3</td>\n",
       "      <td>1</td>\n",
       "      <td>1129</td>\n",
       "      <td>2.0</td>\n",
       "      <td>1260759185</td>\n",
       "      <td>Escape from New York (1981)</td>\n",
       "      <td>Action|Adventure|Sci-Fi|Thriller</td>\n",
       "      <td>False</td>\n",
       "      <td>False</td>\n",
       "      <td>False</td>\n",
       "      <td>...</td>\n",
       "      <td>False</td>\n",
       "      <td>False</td>\n",
       "      <td>False</td>\n",
       "      <td>False</td>\n",
       "      <td>False</td>\n",
       "      <td>False</td>\n",
       "      <td>False</td>\n",
       "      <td>False</td>\n",
       "      <td>False</td>\n",
       "      <td>False</td>\n",
       "    </tr>\n",
       "    <tr>\n",
       "      <th>4</th>\n",
       "      <td>4</td>\n",
       "      <td>1</td>\n",
       "      <td>1172</td>\n",
       "      <td>4.0</td>\n",
       "      <td>1260759205</td>\n",
       "      <td>Cinema Paradiso (Nuovo cinema Paradiso) (1989)</td>\n",
       "      <td>Drama</td>\n",
       "      <td>True</td>\n",
       "      <td>False</td>\n",
       "      <td>False</td>\n",
       "      <td>...</td>\n",
       "      <td>False</td>\n",
       "      <td>False</td>\n",
       "      <td>False</td>\n",
       "      <td>False</td>\n",
       "      <td>False</td>\n",
       "      <td>False</td>\n",
       "      <td>False</td>\n",
       "      <td>False</td>\n",
       "      <td>False</td>\n",
       "      <td>False</td>\n",
       "    </tr>\n",
       "  </tbody>\n",
       "</table>\n",
       "<p>5 rows × 27 columns</p>\n",
       "</div>"
      ]
     },
     "metadata": {},
     "execution_count": 87
    }
   ],
   "metadata": {}
  },
  {
   "cell_type": "code",
   "execution_count": 88,
   "source": [
    "data_df = clean_df.iloc[:, 1:5]\n",
    "data_df"
   ],
   "outputs": [
    {
     "output_type": "execute_result",
     "data": {
      "text/plain": [
       "       userId  movieId  rating   timestamp\n",
       "0           1       31     2.5  1260759144\n",
       "1           1     1029     3.0  1260759179\n",
       "2           1     1061     3.0  1260759182\n",
       "3           1     1129     2.0  1260759185\n",
       "4           1     1172     4.0  1260759205\n",
       "...       ...      ...     ...         ...\n",
       "81517     664    34405     4.0  1343732038\n",
       "81518     664    71530     4.0  1393891216\n",
       "81519     664    80846     4.0  1344436046\n",
       "81520     664     8950     4.5  1343747045\n",
       "81521     664    57669     3.5  1343762326\n",
       "\n",
       "[81522 rows x 4 columns]"
      ],
      "text/html": [
       "<div>\n",
       "<style scoped>\n",
       "    .dataframe tbody tr th:only-of-type {\n",
       "        vertical-align: middle;\n",
       "    }\n",
       "\n",
       "    .dataframe tbody tr th {\n",
       "        vertical-align: top;\n",
       "    }\n",
       "\n",
       "    .dataframe thead th {\n",
       "        text-align: right;\n",
       "    }\n",
       "</style>\n",
       "<table border=\"1\" class=\"dataframe\">\n",
       "  <thead>\n",
       "    <tr style=\"text-align: right;\">\n",
       "      <th></th>\n",
       "      <th>userId</th>\n",
       "      <th>movieId</th>\n",
       "      <th>rating</th>\n",
       "      <th>timestamp</th>\n",
       "    </tr>\n",
       "  </thead>\n",
       "  <tbody>\n",
       "    <tr>\n",
       "      <th>0</th>\n",
       "      <td>1</td>\n",
       "      <td>31</td>\n",
       "      <td>2.5</td>\n",
       "      <td>1260759144</td>\n",
       "    </tr>\n",
       "    <tr>\n",
       "      <th>1</th>\n",
       "      <td>1</td>\n",
       "      <td>1029</td>\n",
       "      <td>3.0</td>\n",
       "      <td>1260759179</td>\n",
       "    </tr>\n",
       "    <tr>\n",
       "      <th>2</th>\n",
       "      <td>1</td>\n",
       "      <td>1061</td>\n",
       "      <td>3.0</td>\n",
       "      <td>1260759182</td>\n",
       "    </tr>\n",
       "    <tr>\n",
       "      <th>3</th>\n",
       "      <td>1</td>\n",
       "      <td>1129</td>\n",
       "      <td>2.0</td>\n",
       "      <td>1260759185</td>\n",
       "    </tr>\n",
       "    <tr>\n",
       "      <th>4</th>\n",
       "      <td>1</td>\n",
       "      <td>1172</td>\n",
       "      <td>4.0</td>\n",
       "      <td>1260759205</td>\n",
       "    </tr>\n",
       "    <tr>\n",
       "      <th>...</th>\n",
       "      <td>...</td>\n",
       "      <td>...</td>\n",
       "      <td>...</td>\n",
       "      <td>...</td>\n",
       "    </tr>\n",
       "    <tr>\n",
       "      <th>81517</th>\n",
       "      <td>664</td>\n",
       "      <td>34405</td>\n",
       "      <td>4.0</td>\n",
       "      <td>1343732038</td>\n",
       "    </tr>\n",
       "    <tr>\n",
       "      <th>81518</th>\n",
       "      <td>664</td>\n",
       "      <td>71530</td>\n",
       "      <td>4.0</td>\n",
       "      <td>1393891216</td>\n",
       "    </tr>\n",
       "    <tr>\n",
       "      <th>81519</th>\n",
       "      <td>664</td>\n",
       "      <td>80846</td>\n",
       "      <td>4.0</td>\n",
       "      <td>1344436046</td>\n",
       "    </tr>\n",
       "    <tr>\n",
       "      <th>81520</th>\n",
       "      <td>664</td>\n",
       "      <td>8950</td>\n",
       "      <td>4.5</td>\n",
       "      <td>1343747045</td>\n",
       "    </tr>\n",
       "    <tr>\n",
       "      <th>81521</th>\n",
       "      <td>664</td>\n",
       "      <td>57669</td>\n",
       "      <td>3.5</td>\n",
       "      <td>1343762326</td>\n",
       "    </tr>\n",
       "  </tbody>\n",
       "</table>\n",
       "<p>81522 rows × 4 columns</p>\n",
       "</div>"
      ]
     },
     "metadata": {},
     "execution_count": 88
    }
   ],
   "metadata": {}
  },
  {
   "cell_type": "code",
   "execution_count": 89,
   "source": [
    "data_df[\"userId\"].value_counts().hist(bins = 100)"
   ],
   "outputs": [
    {
     "output_type": "execute_result",
     "data": {
      "text/plain": [
       "<AxesSubplot:>"
      ]
     },
     "metadata": {},
     "execution_count": 89
    },
    {
     "output_type": "display_data",
     "data": {
      "text/plain": [
       "<Figure size 432x288 with 1 Axes>"
      ],
      "image/png": "[encoded data removed]"
     },
     "metadata": {
      "needs_background": "light"
     }
    }
   ],
   "metadata": {}
  },
  {
   "cell_type": "markdown",
   "source": [
    "### Loading the data into Surprise"
   ],
   "metadata": {}
  },
  {
   "cell_type": "code",
   "execution_count": 90,
   "source": [
    "# Saving the data to a file\n",
    "data_df.to_csv(\"./movies_db/cleaned_movie_ratings_redux.csv\",index=False, header=True)\n",
    "\n",
    "# Creating the reader instance\n",
    "reader = Reader(line_format='user item rating timestamp', sep=',', skip_lines=1)\n",
    "\n",
    "# Loading the dataset to a surprise dataset\n",
    "data = Dataset.load_from_file(\"./movies_db/cleaned_movie_ratings_redux.csv\", reader=reader)"
   ],
   "outputs": [],
   "metadata": {}
  },
  {
   "cell_type": "markdown",
   "source": [
    "## Utils"
   ],
   "metadata": {}
  },
  {
   "cell_type": "code",
   "execution_count": 91,
   "source": [
    "def parse_gridsearch_results(gridsearch_results):\n",
    "    results = {}\n",
    "    model_name = \"\"\n",
    "\n",
    "    params = gridsearch_results.get('params')\n",
    "    for i in range(len(params)):\n",
    "        if params[i]['sim_options']['user_based']:\n",
    "            model_name = params[i]['sim_options']['name'] + \"_user_based\"\n",
    "        else:\n",
    "            model_name = params[i]['sim_options']['name'] + \"_item_based\"\n",
    "        results[model_name] = {}\n",
    "        results[model_name]['rmse'] = gridsearch_results['mean_test_rmse'][i]\n",
    "        results[model_name]['mae'] = gridsearch_results['mean_test_mae'][i]\n",
    "        results[model_name]['fit_time'] = gridsearch_results['mean_fit_time'][i]\n",
    "        results[model_name]['test_time'] = gridsearch_results['mean_test_time'][i]\n",
    "    \n",
    "    return results\n"
   ],
   "outputs": [],
   "metadata": {}
  },
  {
   "cell_type": "code",
   "execution_count": 92,
   "source": [
    "def parse_cv(cv_result, model_name):\n",
    "    results = {}\n",
    "    results[model_name] = {}\n",
    "    results[model_name]['rmse'] = np.mean(cv_result['test_rmse'])\n",
    "    results[model_name]['mae'] = np.mean(cv_result['test_mae'])\n",
    "    results[model_name]['fit_time'] = np.mean(cv_result['fit_time'])\n",
    "    results[model_name]['test_time'] = np.mean(cv_result['test_time'])\n",
    "\n",
    "    return results"
   ],
   "outputs": [],
   "metadata": {}
  },
  {
   "cell_type": "markdown",
   "source": [
    "## Model Benchmarking"
   ],
   "metadata": {}
  },
  {
   "cell_type": "markdown",
   "source": [
    "### Using GridSearchCV to create the results for \n",
    "\n",
    "* User-based CF with cosine similarity.\n",
    "* User-based CF with pearson correlation similarity.\n",
    "* Item-based CF with cosine similarity.\n",
    "* Item-based CF with pearson correlation similarity."
   ],
   "metadata": {}
  },
  {
   "cell_type": "code",
   "execution_count": 93,
   "source": [
    "sim_options = {'name': ['pearson_baseline', 'cosine'],\n",
    "               'user_based': [False, True]\n",
    "               }\n",
    "param_grid = {'k': [40],\n",
    "              'sim_options': sim_options}\n",
    "\n",
    "gs = GridSearchCV(KNNBasic, param_grid, measures=['rmse', 'mae'], cv=3)\n",
    "\n",
    "gs.fit(data)"
   ],
   "outputs": [
    {
     "output_type": "stream",
     "name": "stdout",
     "text": [
      "Estimating biases using als...\n",
      "Computing the pearson_baseline similarity matrix...\n",
      "Done computing similarity matrix.\n",
      "Estimating biases using als...\n",
      "Computing the pearson_baseline similarity matrix...\n",
      "Done computing similarity matrix.\n",
      "Estimating biases using als...\n",
      "Computing the pearson_baseline similarity matrix...\n",
      "Done computing similarity matrix.\n",
      "Estimating biases using als...\n",
      "Computing the pearson_baseline similarity matrix...\n",
      "Done computing similarity matrix.\n",
      "Estimating biases using als...\n",
      "Computing the pearson_baseline similarity matrix...\n",
      "Done computing similarity matrix.\n",
      "Estimating biases using als...\n",
      "Computing the pearson_baseline similarity matrix...\n",
      "Done computing similarity matrix.\n",
      "Computing the cosine similarity matrix...\n",
      "Done computing similarity matrix.\n",
      "Computing the cosine similarity matrix...\n",
      "Done computing similarity matrix.\n",
      "Computing the cosine similarity matrix...\n",
      "Done computing similarity matrix.\n",
      "Computing the cosine similarity matrix...\n",
      "Done computing similarity matrix.\n",
      "Computing the cosine similarity matrix...\n",
      "Done computing similarity matrix.\n",
      "Computing the cosine similarity matrix...\n",
      "Done computing similarity matrix.\n"
     ]
    }
   ],
   "metadata": {}
  },
  {
   "cell_type": "code",
   "execution_count": 94,
   "source": [
    "# SVD Cross Validation\n",
    "algo = SVD()\n",
    "cv_svd = cross_validate(algo, data, measures=['RMSE', 'MAE'], cv=5, verbose=True)\n"
   ],
   "outputs": [
    {
     "output_type": "stream",
     "name": "stdout",
     "text": [
      "Evaluating RMSE, MAE of algorithm SVD on 5 split(s).\n",
      "\n",
      "                  Fold 1  Fold 2  Fold 3  Fold 4  Fold 5  Mean    Std     \n",
      "RMSE (testset)    0.8873  0.8922  0.8901  0.8994  0.8978  0.8934  0.0046  \n",
      "MAE (testset)     0.6831  0.6852  0.6866  0.6929  0.6893  0.6874  0.0034  \n",
      "Fit time          3.45    3.44    3.49    3.54    3.47    3.48    0.03    \n",
      "Test time         0.09    0.09    0.09    0.09    0.09    0.09    0.00    \n"
     ]
    }
   ],
   "metadata": {}
  },
  {
   "cell_type": "code",
   "execution_count": 95,
   "source": [
    "# NMF Cross Validation\n",
    "algo = NMF()\n",
    "cv_nmf = cross_validate(algo, data, measures=['RMSE', 'MAE'], cv=5, verbose=True)\n"
   ],
   "outputs": [
    {
     "output_type": "stream",
     "name": "stdout",
     "text": [
      "Evaluating RMSE, MAE of algorithm NMF on 5 split(s).\n",
      "\n",
      "                  Fold 1  Fold 2  Fold 3  Fold 4  Fold 5  Mean    Std     \n",
      "RMSE (testset)    0.9421  0.9456  0.9525  0.9492  0.9525  0.9484  0.0040  \n",
      "MAE (testset)     0.7267  0.7257  0.7296  0.7299  0.7317  0.7287  0.0022  \n",
      "Fit time          3.94    3.88    3.85    4.20    4.03    3.98    0.12    \n",
      "Test time         0.08    0.08    0.32    0.08    0.09    0.13    0.10    \n"
     ]
    }
   ],
   "metadata": {}
  },
  {
   "cell_type": "code",
   "execution_count": 96,
   "source": [
    "all_results = {**parse_gridsearch_results(gs.cv_results), **parse_cv(cv_svd, \"SVD\"), **parse_cv(cv_nmf, \"NMF\")}"
   ],
   "outputs": [],
   "metadata": {}
  },
  {
   "cell_type": "code",
   "execution_count": 97,
   "source": [
    "all_results"
   ],
   "outputs": [
    {
     "output_type": "execute_result",
     "data": {
      "text/plain": [
       "{'pearson_baseline_item_based': {'rmse': 0.9620725013098362,\n",
       "  'mae': 0.7282272112450524,\n",
       "  'fit_time': 2.9981122811635337,\n",
       "  'test_time': 3.1524985631306968},\n",
       " 'pearson_baseline_user_based': {'rmse': 0.9979915991104208,\n",
       "  'mae': 0.7691188497042267,\n",
       "  'fit_time': 0.3066496054331462,\n",
       "  'test_time': 1.2538599173227947},\n",
       " 'cosine_item_based': {'rmse': 0.9800952599659686,\n",
       "  'mae': 0.7600757086175566,\n",
       "  'fit_time': 3.949289162953695,\n",
       "  'test_time': 3.277857859929403},\n",
       " 'cosine_user_based': {'rmse': 0.9826263510191039,\n",
       "  'mae': 0.7584784757277981,\n",
       "  'fit_time': 0.1943687597910563,\n",
       "  'test_time': 1.2489103476206462},\n",
       " 'SVD': {'rmse': 0.8933526719506263,\n",
       "  'mae': 0.6874129547443053,\n",
       "  'fit_time': 3.4783462047576905,\n",
       "  'test_time': 0.09014663696289063},\n",
       " 'NMF': {'rmse': 0.9483908594313156,\n",
       "  'mae': 0.7287466033096003,\n",
       "  'fit_time': 3.978021478652954,\n",
       "  'test_time': 0.12851572036743164}}"
      ]
     },
     "metadata": {},
     "execution_count": 97
    }
   ],
   "metadata": {}
  },
  {
   "cell_type": "markdown",
   "source": [
    "### Result comparisson"
   ],
   "metadata": {}
  },
  {
   "cell_type": "code",
   "execution_count": 98,
   "source": [
    "models = []\n",
    "values = []\n",
    "for key, value in all_results.items():\n",
    "    models.append(key)\n",
    "    values.append(value)\n",
    "\n",
    "values_df = pd.DataFrame(values, index=models)\n",
    "values_df.head(6)"
   ],
   "outputs": [
    {
     "output_type": "execute_result",
     "data": {
      "text/plain": [
       "                                 rmse       mae  fit_time  test_time\n",
       "pearson_baseline_item_based  0.962073  0.728227  2.998112   3.152499\n",
       "pearson_baseline_user_based  0.997992  0.769119  0.306650   1.253860\n",
       "cosine_item_based            0.980095  0.760076  3.949289   3.277858\n",
       "cosine_user_based            0.982626  0.758478  0.194369   1.248910\n",
       "SVD                          0.893353  0.687413  3.478346   0.090147\n",
       "NMF                          0.948391  0.728747  3.978021   0.128516"
      ],
      "text/html": [
       "<div>\n",
       "<style scoped>\n",
       "    .dataframe tbody tr th:only-of-type {\n",
       "        vertical-align: middle;\n",
       "    }\n",
       "\n",
       "    .dataframe tbody tr th {\n",
       "        vertical-align: top;\n",
       "    }\n",
       "\n",
       "    .dataframe thead th {\n",
       "        text-align: right;\n",
       "    }\n",
       "</style>\n",
       "<table border=\"1\" class=\"dataframe\">\n",
       "  <thead>\n",
       "    <tr style=\"text-align: right;\">\n",
       "      <th></th>\n",
       "      <th>rmse</th>\n",
       "      <th>mae</th>\n",
       "      <th>fit_time</th>\n",
       "      <th>test_time</th>\n",
       "    </tr>\n",
       "  </thead>\n",
       "  <tbody>\n",
       "    <tr>\n",
       "      <th>pearson_baseline_item_based</th>\n",
       "      <td>0.962073</td>\n",
       "      <td>0.728227</td>\n",
       "      <td>2.998112</td>\n",
       "      <td>3.152499</td>\n",
       "    </tr>\n",
       "    <tr>\n",
       "      <th>pearson_baseline_user_based</th>\n",
       "      <td>0.997992</td>\n",
       "      <td>0.769119</td>\n",
       "      <td>0.306650</td>\n",
       "      <td>1.253860</td>\n",
       "    </tr>\n",
       "    <tr>\n",
       "      <th>cosine_item_based</th>\n",
       "      <td>0.980095</td>\n",
       "      <td>0.760076</td>\n",
       "      <td>3.949289</td>\n",
       "      <td>3.277858</td>\n",
       "    </tr>\n",
       "    <tr>\n",
       "      <th>cosine_user_based</th>\n",
       "      <td>0.982626</td>\n",
       "      <td>0.758478</td>\n",
       "      <td>0.194369</td>\n",
       "      <td>1.248910</td>\n",
       "    </tr>\n",
       "    <tr>\n",
       "      <th>SVD</th>\n",
       "      <td>0.893353</td>\n",
       "      <td>0.687413</td>\n",
       "      <td>3.478346</td>\n",
       "      <td>0.090147</td>\n",
       "    </tr>\n",
       "    <tr>\n",
       "      <th>NMF</th>\n",
       "      <td>0.948391</td>\n",
       "      <td>0.728747</td>\n",
       "      <td>3.978021</td>\n",
       "      <td>0.128516</td>\n",
       "    </tr>\n",
       "  </tbody>\n",
       "</table>\n",
       "</div>"
      ]
     },
     "metadata": {},
     "execution_count": 98
    }
   ],
   "metadata": {}
  },
  {
   "cell_type": "code",
   "execution_count": 99,
   "source": [
    "values_df.plot(y=['rmse', 'mae'], kind=\"bar\")\n",
    "plt.xlabel(\"Model\")\n",
    "plt.title(\"Metric comparisson\")"
   ],
   "outputs": [
    {
     "output_type": "execute_result",
     "data": {
      "text/plain": [
       "Text(0.5, 1.0, 'Metric comparisson')"
      ]
     },
     "metadata": {},
     "execution_count": 99
    },
    {
     "output_type": "display_data",
     "data": {
      "text/plain": [
       "<Figure size 432x288 with 1 Axes>"
      ],
      "image/png": "[encoded data removed]"
     },
     "metadata": {
      "needs_background": "light"
     }
    }
   ],
   "metadata": {}
  },
  {
   "cell_type": "code",
   "execution_count": 100,
   "source": [
    "values_df.plot(y=['fit_time', 'test_time'], kind=\"bar\")\n",
    "plt.xlabel(\"Model\")\n",
    "plt.title(\"Time comparisson\")"
   ],
   "outputs": [
    {
     "output_type": "execute_result",
     "data": {
      "text/plain": [
       "Text(0.5, 1.0, 'Time comparisson')"
      ]
     },
     "metadata": {},
     "execution_count": 100
    },
    {
     "output_type": "display_data",
     "data": {
      "text/plain": [
       "<Figure size 432x288 with 1 Axes>"
      ],
      "image/png": "[encoded data removed]"
     },
     "metadata": {
      "needs_background": "light"
     }
    }
   ],
   "metadata": {}
  }
 ],
 "metadata": {
  "orig_nbformat": 4,
  "language_info": {
   "name": "python",
   "version": "3.9.2",
   "mimetype": "text/x-python",
   "codemirror_mode": {
    "name": "ipython",
    "version": 3
   },
   "pygments_lexer": "ipython3",
   "nbconvert_exporter": "python",
   "file_extension": ".py"
  },
  "kernelspec": {
   "name": "python3",
   "display_name": "Python 3.9.2 64-bit ('EPI_DS_Prod': conda)"
  },
  "interpreter": {
   "hash": "a3a0278f823a465cb88a2c4ce765ad829b251ab85db51462ef204855a1d2e165"
  }
 },
 "nbformat": 4,
 "nbformat_minor": 2
}